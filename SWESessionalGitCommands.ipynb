{
  "nbformat": 4,
  "nbformat_minor": 0,
  "metadata": {
    "colab": {
      "provenance": []
    },
    "kernelspec": {
      "name": "python3",
      "display_name": "Python 3"
    },
    "language_info": {
      "name": "python"
    }
  },
  "cells": [
    {
      "cell_type": "code",
      "execution_count": null,
      "metadata": {
        "id": "1Z4PKLu6T63M"
      },
      "outputs": [],
      "source": []
    },
    {
      "cell_type": "markdown",
      "source": [
        "Umbrella.  The first paragraph of your Discussion will serve as an “umbrella” paragraph where you provide an overview of the relevant area of law and a road map that shows the reader what your memo will address and the structure by which you will address the issues at hand.\n",
        "\n",
        "1.  Begin with a broad discussion of the law, and then narrow your discussion as appropriate.\n",
        "\n",
        "2.  When providing an overview of the particular law at hand, try to breakdown your explanation of the law into separate elements or factors that you will analyze in your memo.  These “elements” or “sub-issues” are like ingredients - together, they make up the law.  By clearly separating out and identifying each of the elements of the law, you provide the reader with a much clearer understanding of how the law operates and therefore of the likelihood of success in the particular circumstance at hand.\n",
        "\n",
        "3.  When possible, number these separate components of the law when you present them in your umbrella to ensure that the reader identifies the sub-issues as being distinct from each other.  Ideally, you will organize your discussion in the same manner and order as you presented them in your umbrella paragraph.  Therefore, the clearer your statement of the rule and its components in your umbrella, the easier your reader will follow your analysis.\n",
        "\n",
        "4.  Your umbrella paragraph could also be a good place to inform the reader of the standard of review - the manner by which a court will consider each element of the law.  In this regard, it is important that you clearly explain what is necessary to succeed with regard to the law generally and with regard to each element of the law specifically.  Must you satisfy the requirements of every sub-issue to succeed?  Or do you have a balancing test that only requires you to consider each of the factors and weigh the totality of the evidence?  Who has the burden of proof?  Is the issue one of fact or one of law?  You need not answer all of these questions, but they are the types of procedural issues that may belong in your umbrella paragraph.\n",
        "\n",
        "5.  Beyond a statement of the law and of the standard of review, you may provide additional information as you feel is appropriate, but refrain from getting too specific as you will delve into each of the sub-issues in more detail below.\n",
        "\n",
        "     Sample Umbrella Paragraph:\n",
        "     (Trade Secret example from Issue Statement)\n",
        "\n",
        "Discussion\n",
        "\n",
        "     The validity of Ms. Petersen's claim for trade secret misappropriation depends upon whether (1) the PPI System could be a trade secret, (2) Ms. Dimitri should have known that her acquisition of the PPI System was through improper means, and (3) Ms. Dimitri used the PPI System without Ms. Petersen's consent. See Colorado Uniform Trade Secrets Act (\"CO UTSA\"), C.R.S.A. § 7-74-102 (2009); Mineral Deposits Limited v. Zigan, 773 P.2d 606, 608 (Colo. App. 1989). Whether the PPI System is a trade secret and whether Ms. Dimitri's acquisition and use of the PPI System constituted misappropriation are questions of fact. Gold Messenger, Inc. v. McGuay, 937 P.2d 907, 911 (Colo. App. 1997); Powell Products, Inc. v. Marks, 948 F. Supp. 1469, 1482 (D. Colo. 1996).\n",
        "\n",
        "NOTE: Based on this umbrella paragraph, the first section of the memorandum should concern whether the method at issue constitutes a trade secret, and a heading such as the following would be suitable:\n"
      ],
      "metadata": {
        "id": "ozCbxzGrWesJ"
      }
    }
  ]
}